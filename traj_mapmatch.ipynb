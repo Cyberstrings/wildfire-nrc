{
 "cells": [
  {
   "cell_type": "markdown",
   "metadata": {},
   "source": [
    "## Trajectory analysis of GPS data - Kelowna (by SovereignAI) - Single day and multiple trajectory"
   ]
  },
  {
   "cell_type": "code",
   "execution_count": null,
   "metadata": {
    "executionInfo": {
     "elapsed": 17,
     "status": "ok",
     "timestamp": 1725644789491,
     "user": {
      "displayName": "Apratim Sen",
      "userId": "18373816428204644131"
     },
     "user_tz": 360
    },
    "id": "oNEX7jwiloK1"
   },
   "outputs": [],
   "source": [
    "import requests\n",
    "import json\n",
    "import time\n",
    "import datetime\n",
    "from urllib.request import urlopen\n",
    "import requests\n",
    "import warnings\n",
    "from copy import copy\n",
    "\n",
    "import numpy as np\n",
    "import pandas as pd\n",
    "import seaborn as sns\n",
    "import osmnx as ox\n",
    "import networkx as nx\n",
    "import geopandas as gpd\n",
    "\n",
    "from datetime import datetime, timedelta\n",
    "import matplotlib.pyplot as plt\n",
    "import plotly.express as px\n",
    "import plotly.graph_objects as go\n",
    "from pyproj import CRS\n",
    "import os\n",
    "import movingpandas as mpd\n",
    "from shapely.geometry import Point\n",
    "\n",
    "# Suppress deprecation warnings\n",
    "warnings.filterwarnings(\"ignore\", category=DeprecationWarning)"
   ]
  },
  {
   "cell_type": "code",
   "execution_count": null,
   "metadata": {},
   "outputs": [],
   "source": [
    "import pandas as pd\n",
    "import geopandas as gpd\n",
    "from shapely import wkt\n",
    "\n",
    "# Read csv\n",
    "'''\n",
    "kelowna_gps = pd.read_csv('C:/data/gps_sai/Kelowna_Redo.csv')\n",
    "'''\n",
    "kelowna_gps_01Aug = pd.read_csv('C:/data/gps_sai/kelowna_gps_parts/kelowna_gps_2023-08-01.csv')\n",
    "\n",
    "# Display\n",
    "kelowna_gps_01Aug"
   ]
  },
  {
   "cell_type": "code",
   "execution_count": null,
   "metadata": {},
   "outputs": [],
   "source": [
    "def convert_df_to_gdf_v1(df, crs_no):\n",
    "    # Create a geometry column from latitude and longitude and create gdf for Halifax\n",
    "    geometry = [Point(xy) for xy in zip(df['longitude'], df['latitude'])]\n",
    "    gdf = gpd.GeoDataFrame(df, geometry=geometry)\n",
    "    \n",
    "    # Set the coordinate reference system (CRS) if needed\n",
    "    gdf.set_crs(epsg=crs_no, inplace=True)  # WGS 84\n",
    "    \n",
    "    # Display\n",
    "    return gdf"
   ]
  },
  {
   "cell_type": "code",
   "execution_count": null,
   "metadata": {},
   "outputs": [],
   "source": [
    "# CRS for the gdf\n",
    "crs = 4326\n",
    "\n",
    "kelowna_gps_01Aug = convert_df_to_gdf_v1(kelowna_gps_01Aug, crs)\n",
    "kelowna_gps_01Aug"
   ]
  },
  {
   "cell_type": "code",
   "execution_count": null,
   "metadata": {},
   "outputs": [],
   "source": [
    "def drop_less_freq_ids(df, col_name, freq):\n",
    "    # Drop duplicates\n",
    "    df = df.drop_duplicates()\n",
    "\n",
    "    # Count occurrences of each registrationID\n",
    "    registration_counts = df[col_name].value_counts()\n",
    "\n",
    "    # Identify IDs that occur less than 4 times\n",
    "    less_freq_ids = registration_counts[registration_counts < freq].index\n",
    "\n",
    "    # Calculate the number of such IDs\n",
    "    num_less_freq_ids = len(less_freq_ids)\n",
    "\n",
    "    # Drop rows with registrationIDs that occur only once\n",
    "    df = df[~df[col_name].isin(less_freq_ids)]\n",
    "\n",
    "    # Return\n",
    "    return df, num_less_freq_ids\n"
   ]
  },
  {
   "cell_type": "code",
   "execution_count": null,
   "metadata": {},
   "outputs": [],
   "source": [
    "col_name = 'registrationID'\n",
    "freq = 4\n",
    "\n",
    "# Drop less frequent GPS columns\n",
    "kelowna_gps_01Aug, num_thrice_occurrence_ids = drop_less_freq_ids(kelowna_gps_01Aug, col_name, freq)\n",
    "\n",
    "# Calculate the number of such IDs\n",
    "print(f\"Number of registrationIDs occurring less than four times: {num_thrice_occurrence_ids}\")\n"
   ]
  },
  {
   "cell_type": "code",
   "execution_count": null,
   "metadata": {},
   "outputs": [],
   "source": [
    "def drop_duplicate_gps(df, gps_col_name, date_col_name):\n",
    "    # Drop duplicates\n",
    "    df = df.drop_duplicates()\n",
    "    df[date_col_name] = pd.to_datetime(df[date_col_name])\n",
    "\n",
    "    # Shape before dropping duplicates\n",
    "    rows_before = df.shape[0]\n",
    "\n",
    "    # Drop rows with duplicate registrationID and DateTime\n",
    "    df = df.drop_duplicates(subset=[gps_col_name, date_col_name])\n",
    "\n",
    "    # Shape after dropping duplicates\n",
    "    rows_after = df.shape[0]\n",
    "\n",
    "    # Calculate and print the number of rows dropped\n",
    "    rows_dropped = rows_before - rows_after\n",
    "    \n",
    "    # Display\n",
    "    return df, rows_dropped\n",
    "    "
   ]
  },
  {
   "cell_type": "code",
   "execution_count": null,
   "metadata": {},
   "outputs": [],
   "source": [
    "\n",
    "# Column name and count limit\n",
    "gps_col_name = 'registrationID'\n",
    "date_col_name = 'DateTime'\n",
    "\n",
    "# Drop duplicates\n",
    "kelowna_gps_01Aug, rows_dropped = drop_duplicate_gps(kelowna_gps_01Aug, gps_col_name, date_col_name)\n",
    "\n",
    "print(f\"Number of rows dropped: {rows_dropped}\")\n",
    "display(kelowna_gps_01Aug)"
   ]
  },
  {
   "cell_type": "code",
   "execution_count": null,
   "metadata": {},
   "outputs": [],
   "source": [
    "# Calculate the start and end times\n",
    "start_time_k = kelowna_gps_01Aug['DateTime'].min()\n",
    "end_time_k = kelowna_gps_01Aug['DateTime'].max()\n",
    "\n",
    "print(f\"kelowna_gps_01Aug data was collected from {start_time_k} to {end_time_k}.\")"
   ]
  },
  {
   "cell_type": "code",
   "execution_count": null,
   "metadata": {},
   "outputs": [],
   "source": [
    "def display_shp_in_contextily_v1(path, crs, dim):\n",
    "    # Read shapefile\n",
    "    shp = gpd.read_file(path)\n",
    "    \n",
    "    # Set the Coordinate Reference System (CRS) if not already set (WGS84 - EPSG:4326 for lat/long)\n",
    "    shp.to_crs(epsg=crs, inplace=True)\n",
    "    \n",
    "    # Plot the geometries on a basemap\n",
    "    fig, ax = plt.subplots(figsize=(dim, dim))\n",
    "    \n",
    "    # Plot the roads (your data)\n",
    "    shp.plot(ax=ax, color='blue', linewidth=1, alpha=0.3)\n",
    "    \n",
    "    # Use OpenStreetMap for the basemap\n",
    "    ctx.add_basemap(ax, crs=shp.crs.to_string(), source=ctx.providers.OpenStreetMap.Mapnik)\n",
    "    \n",
    "    # Show the plot\n",
    "    plt.show()\n",
    "\n",
    "    return 0\n"
   ]
  },
  {
   "cell_type": "code",
   "execution_count": null,
   "metadata": {},
   "outputs": [],
   "source": [
    "\n",
    "# Constant: SHP path and CRS value\n",
    "path_to_shp = 'C:/data/boundaries_v2/inner_boundary_Kelowna.shp'\n",
    "epsg = 4326\n",
    "\n",
    "display_shp_in_contextily_v1(path_to_shp, epsg, 6)\n"
   ]
  },
  {
   "cell_type": "code",
   "execution_count": null,
   "metadata": {},
   "outputs": [],
   "source": [
    "def convert_roads_geojson_to_osmnx_graphml_v1(path, crs_no):\n",
    "\n",
    "    # Load the GeoJSON file\n",
    "    roads_gdf = gpd.read_file(path)\n",
    "    \n",
    "    # Ensure CRS is WGS84 (EPSG:4326)\n",
    "    roads_gdf = roads_gdf.to_crs(epsg=crs_no)\n",
    "    \n",
    "    # Initialize a directed graph\n",
    "    roads_graphml = nx.MultiDiGraph()\n",
    "    \n",
    "    # Extract nodes and edges\n",
    "    node_id = 0  # To uniquely identify nodes\n",
    "    node_map = {}  # To store unique nodes and their IDs\n",
    "    \n",
    "    for _, row in roads_gdf.iterrows():\n",
    "        if isinstance(row.geometry, LineString):\n",
    "            # Extract coordinates from the LineString\n",
    "            coords = list(row.geometry.coords)\n",
    "            \n",
    "            # Add nodes and edges to the graph\n",
    "            for i in range(len(coords) - 1):\n",
    "                u, v = coords[i], coords[i + 1]\n",
    "                \n",
    "                # Add nodes (check if they already exist)\n",
    "                if u not in node_map:\n",
    "                    node_map[u] = node_id\n",
    "                    roads_graphml.add_node(node_id, x=u[0], y=u[1])\n",
    "                    node_id += 1\n",
    "                if v not in node_map:\n",
    "                    node_map[v] = node_id\n",
    "                    roads_graphml.add_node(node_id, x=v[0], y=v[1])\n",
    "                    node_id += 1\n",
    "                \n",
    "                # Add edge with attributes\n",
    "                roads_graphml.add_edge(node_map[u], node_map[v], length=LineString([u, v]).length)\n",
    "        else:\n",
    "            print(f\"Skipping non-LineString geometry at index {_}\")\n",
    "\n",
    "    if crs_no == 4326:\n",
    "        # Add CRS to the graph\n",
    "        roads_graphml.graph['crs'] = \"EPSG:4326\"\n",
    "    else:\n",
    "        print('The crs_no is not 4326; skipping graph[crs] addition')\n",
    "\n",
    "    return roads_graphml\n"
   ]
  },
  {
   "cell_type": "code",
   "execution_count": null,
   "metadata": {},
   "outputs": [],
   "source": [
    "import geopandas as gpd\n",
    "import networkx as nx\n",
    "import osmnx as ox\n",
    "\n",
    "# Constants\n",
    "path = \"C:/data/gps_sai/bc_gis/kelowna_roads_1.geojson\"\n",
    "crs = 4326\n",
    "\n",
    "# Convert to graphml\n",
    "roads_kelowna_json = convert_roads_geojson_to_osmnx_graphml_v1(path, crs)\n",
    "\n",
    "# Save the graph as a GraphML file (optional)\n",
    "ox.save_graphml(roads_kelowna_json, \"C:/data/gps_sai/bc_gis/kelowna_roads_1.graphml\")\n",
    "\n",
    "# Visualize the graph (optional)\n",
    "ox.plot_graph(roads_kelowna_json, node_size=5, edge_linewidth=0.5)\n"
   ]
  },
  {
   "cell_type": "code",
   "execution_count": null,
   "metadata": {},
   "outputs": [],
   "source": [
    "# Importing road network from pytrack's graph module\n",
    "import numpy as np\n",
    "import pandas as pd\n",
    "import os\n",
    "import xml.etree.ElementTree as ET\n",
    "import geopandas as gpd\n",
    "from shapely.geometry import Point, LineString\n",
    "\n",
    "from cybstr.pytrack.graph import graph, distance\n",
    "from cybstr.pytrack.analytics import visualization\n",
    "from cybstr.pytrack.matching import candidate, mpmatching_utils, mpmatching\n",
    "\n",
    "# Get Kelowna boundary shapefile\n",
    "kelowna_boundary = gpd.read_file('C:/data/boundaries_v2/inner_boundary_Kelowna.shp')\n",
    "\n",
    "# Set the Coordinate Reference System (CRS) if not already set (WGS84 - EPSG:4326 for lat/long)\n",
    "kelowna_boundary.to_crs(epsg=4326, inplace=True)\n",
    "\n",
    "# Get the bounding box again\n",
    "minx, miny, maxx, maxy = kelowna_boundary.total_bounds\n",
    "\n",
    "# Convert the graph to GeoDataFrames\n",
    "nodes, edges = ox.graph_to_gdfs(roads_kelowna_json)\n",
    "\n",
    "latitude = kelowna_gps_01Aug[\"latitude\"].to_list()\n",
    "longitude = kelowna_gps_01Aug[\"longitude\"].to_list()\n",
    "\n",
    "# Convert to north, south, east, and west\n",
    "north = maxy  # Maximum latitude\n",
    "south = miny  # Minimum latitude\n",
    "east = maxx   # Maximum longitude\n",
    "west = minx   # Minimum longitude\n",
    "\n",
    "points = [(lat, lon) for lat, lon in zip(latitude[:30], longitude[:30])]\n",
    "roads_kelowna_json = graph.graph_from_bbox(*distance.enlarge_bbox(north, south, west, east, 500), simplify=True, network_type='drive')"
   ]
  },
  {
   "cell_type": "code",
   "execution_count": null,
   "metadata": {},
   "outputs": [],
   "source": [
    "# Visualize the roads in pytrack's map module\n",
    "loc = (np.mean(latitude[:30]), np.mean(longitude[:30]))\n",
    "maps = visualization.Map(location=loc, zoom_start=15)\n",
    "maps.add_graph(roads_kelowna_json, plot_nodes=True)\n",
    "# maps"
   ]
  },
  {
   "cell_type": "code",
   "execution_count": null,
   "metadata": {},
   "outputs": [],
   "source": [
    "def calculate_trip_id(df, gps_col_name, date_col_name, timelimt):\n",
    "\n",
    "    # Convert DateTime column to datetime type\n",
    "    df[date_col_name] = pd.to_datetime(df[date_col_name])\n",
    "    \n",
    "    # Sort by registrationID and DateTime to ensure proper order\n",
    "    df = df.sort_values(by=[gps_col_name, date_col_name])\n",
    "    \n",
    "    # Calculate time difference in seconds between consecutive rows\n",
    "    df.loc[:,\"time_diff\"] = df[date_col_name].diff().dt.total_seconds()\n",
    "    \n",
    "    # Assign trip_id based on the desired time gap\n",
    "    df.loc[:,\"trip_id\"] = (df[\"time_diff\"] > timelimt).cumsum() + 1\n",
    "    \n",
    "    # Fill NaN for the first row's time_diff\n",
    "    df.loc[:,\"time_diff\"] = df[\"time_diff\"].fillna(0)\n",
    "\n",
    "    # Return the df\n",
    "    return df\n"
   ]
  },
  {
   "cell_type": "code",
   "execution_count": null,
   "metadata": {},
   "outputs": [],
   "source": [
    "# Assign trip_ids based on 1hr gap between consecutive GPS points\n",
    "# Constants: column names and time limit trip\n",
    "gps_col_name = \"registrationID\"\n",
    "date_col_name = \"DateTime\"\n",
    "timelimt = 3600\n",
    "\n",
    "# Return and print the df\n",
    "kelowna_gps_01Aug_id1 = calculate_trip_id(kelowna_gps_01Aug_id1, gps_col_name, date_col_name, timelimt)\n",
    "display(kelowna_gps_01Aug_id1.head())"
   ]
  },
  {
   "cell_type": "code",
   "execution_count": null,
   "metadata": {},
   "outputs": [],
   "source": [
    "# Ensure geometry column contains Point objects\n",
    "import geopandas as gpd\n",
    "\n",
    "kelowna_gps_01Aug_id1 = gpd.GeoDataFrame(kelowna_gps_01Aug_id1, geometry=gpd.points_from_xy(kelowna_gps_01Aug_id1.longitude, kelowna_gps_01Aug_id1.latitude), crs=\"EPSG:4326\")\n",
    "kelowna_gps_01Aug_id1 = kelowna_gps_01Aug_id1.reset_index()\n",
    "\n",
    "# Check if the geometry column is valid\n",
    "if isinstance(kelowna_gps_01Aug_id1, gpd.GeoDataFrame):\n",
    "    # Extract x (longitude) and y (latitude) from the geometry column\n",
    "    kelowna_gps_01Aug_id1[\"x\"] = kelowna_gps_01Aug_id1.geometry.x\n",
    "    kelowna_gps_01Aug_id1[\"y\"] = kelowna_gps_01Aug_id1.geometry.y\n",
    "else:\n",
    "    raise ValueError(\"kelowna_gps_01Aug_id1 must be a GeoDataFrame with a valid geometry column.\")\n",
    "\n",
    "display(kelowna_gps_01Aug_id1.head())"
   ]
  },
  {
   "cell_type": "code",
   "execution_count": null,
   "metadata": {},
   "outputs": [],
   "source": [
    "kelowna_gps_01Aug_id1_t1 = kelowna_gps_01Aug_id1[kelowna_gps_01Aug_id1['trip_id'] == 1] # Test: use trip_id 1\n",
    "\n",
    "display(kelowna_gps_01Aug_id1_t1)"
   ]
  },
  {
   "cell_type": "code",
   "execution_count": null,
   "metadata": {},
   "outputs": [],
   "source": [
    "# Initialize maps\n",
    "# Retrieve all lat/long and make a list\n",
    "lati_01Aug_id1_t1 = kelowna_gps_01Aug_id1_t1[\"latitude\"].to_list()\n",
    "long_01Aug_id1_t1 = kelowna_gps_01Aug_id1_t1[\"longitude\"].to_list()\n",
    "\n",
    "points_01Aug_id1_t1 = [(lat, lon) for lat, lon in zip(lati_01Aug_id1_t1[:30], long_01Aug_id1_t1[:30])]\n",
    "\n",
    "# Center map around mean latitude and longitude\n",
    "loc_01Aug_id1_t1 = (np.mean(lati_01Aug_id1_t1[:30]), np.mean(long_01Aug_id1_t1[:30]))\n",
    "maps_01Aug_id1_t1 = visualization.Map(location=loc_01Aug_id1_t1, zoom_start=15)\n",
    "#maps_01Aug_id1_t1"
   ]
  },
  {
   "cell_type": "code",
   "execution_count": null,
   "metadata": {},
   "outputs": [],
   "source": [
    "# Function to get connected subgraphs\n",
    "\n",
    "def connected_component_subgraphs(G):\n",
    "    for c in nx.weakly_connected_components(G):\n",
    "        yield G.subgraph(c)\n",
    "\n",
    "# Take the largest connected subgraph\n",
    "sgs = list(connected_component_subgraphs(roads_kelowna_json))\n",
    "i = np.argmax([len(sg) for sg in sgs])\n",
    "sg = sgs[i]\n",
    "len(sg)\n"
   ]
  },
  {
   "cell_type": "markdown",
   "metadata": {},
   "source": [
    "<H3>Trajectory for all IDs in a day</H3>"
   ]
  },
  {
   "cell_type": "code",
   "execution_count": null,
   "metadata": {},
   "outputs": [],
   "source": [
    "# Constants: column names and time limit trip\n",
    "gps_col_name = \"registrationID\"\n",
    "date_col_name = \"DateTime\"\n",
    "timelimt = 3600\n",
    "\n",
    "# Return and print the df\n",
    "kelowna_gps_01Aug = calculate_trip_id(kelowna_gps_01Aug, gps_col_name, date_col_name, timelimt)\n",
    "display(kelowna_gps_01Aug.head())\n"
   ]
  },
  {
   "cell_type": "code",
   "execution_count": null,
   "metadata": {},
   "outputs": [],
   "source": [
    "# Ensure geometry column contains Point objects\n",
    "import geopandas as gpd\n",
    "\n",
    "kelowna_gps_01Aug = gp.GeoDataFrame(kelowna_gps_01Aug, geometry=gp.points_from_xy(kelowna_gps_01Aug.longitude, kelowna_gps_01Aug.latitude), crs=\"EPSG:4326\")\n",
    "kelowna_gps_01Aug = kelowna_gps_01Aug.reset_index()\n",
    "\n",
    "# Check if the geometry column is valid\n",
    "if isinstance(kelowna_gps_01Aug, gpd.GeoDataFrame):\n",
    "    # Extract x (longitude) and y (latitude) from the geometry column\n",
    "    kelowna_gps_01Aug[\"x\"] = kelowna_gps_01Aug.geometry.x\n",
    "    kelowna_gps_01Aug[\"y\"] = kelowna_gps_01Aug.geometry.y\n",
    "else:\n",
    "    raise ValueError(\"kelowna_gps_01Aug must be a GeoDataFrame with a valid geometry column.\")\n",
    "\n",
    "display(kelowna_gps_01Aug.head())"
   ]
  },
  {
   "cell_type": "code",
   "execution_count": null,
   "metadata": {},
   "outputs": [],
   "source": [
    "# Retrieve all lat/long and make a list\n",
    "latitude_kelowna_gps_01Aug = kelowna_gps_01Aug[\"latitude\"].to_list()\n",
    "longitude_kelowna_gps_01Aug = kelowna_gps_01Aug[\"longitude\"].to_list()\n",
    "\n",
    "points_kelowna_gps_01Aug = [(lat, lon) for lat, lon in zip(latitude_kelowna_gps_01Aug[:30], longitude_kelowna_gps_01Aug[:30])]\n",
    "\n",
    "# Center map around mean latitude and longitude\n",
    "loc = (np.mean(latitude_kelowna_gps_01Aug[:30]), np.mean(longitude_kelowna_gps_01Aug[:30]))\n",
    "maps = visualization.Map(location=loc, zoom_start=15)\n",
    "#maps"
   ]
  },
  {
   "cell_type": "code",
   "execution_count": null,
   "metadata": {},
   "outputs": [],
   "source": [
    "\n",
    "failed_trips = []\n",
    "\n",
    "# Call the function to map-match and create a GeoDataFrame\n",
    "matched_trips_gdf, failed_trips = map_match_and_return_geodataframe_v3(\n",
    "    df=kelowna_gps_01Aug,\n",
    "    log_name=\"kelowna_01Aug\",\n",
    "    graph=roads_kelowna_json, \n",
    "    day_col=\"DateTime\", \n",
    "    gps_id_col=\"registrationID\", \n",
    "    trip_id_col=\"trip_id\", \n",
    "    interp_dist=50, \n",
    "    radius=90, \n",
    "    max_trips=10\n",
    ")\n"
   ]
  },
  {
   "cell_type": "code",
   "execution_count": null,
   "metadata": {},
   "outputs": [],
   "source": [
    "matched_trips_gdf"
   ]
  },
  {
   "cell_type": "code",
   "execution_count": null,
   "metadata": {},
   "outputs": [],
   "source": [
    "# Save/load the trips dataframe\n",
    "'''\n",
    "matched_trips_gdf.to_csv('matched_trips_gdf.csv')\n",
    "matched_trips_gdf.head()\n",
    "'''\n",
    "'''\n",
    "matched_trips_df = df.read_csv()\n",
    "# convert to gdf?\n",
    "'''"
   ]
  },
  {
   "cell_type": "code",
   "execution_count": null,
   "metadata": {},
   "outputs": [],
   "source": [
    "# Visualize the trips in folium\n",
    "###############################\n",
    "\n",
    "folium_map = visualize_trips_in_folium(\n",
    "    trips_gdf=matched_trips_gdf,  # GeoDataFrame from the map-matching function\n",
    "    trip_id_col=\"trip_id\"         # Column containing trip IDs\n",
    ")\n",
    "\n",
    "# Save and display the map\n",
    "folium_map.save(\"matched_trips_folium_map_1000.html\")"
   ]
  },
  {
   "cell_type": "code",
   "execution_count": null,
   "metadata": {},
   "outputs": [],
   "source": [
    "\n",
    "import contextily as ctx\n",
    "\n",
    "path = 'C:/data/gps_sai/bc_gis/junctions/Kelowna_Water_Harvey_Pandosy_Junc.shp'\n",
    "\n",
    "shp = gpd.read_file(path)\n",
    "    \n",
    "# Set the Coordinate Reference System (CRS) if not already set (WGS84 - EPSG:4326 for lat/long)\n",
    "shp.to_crs(epsg=4326, inplace=True)\n",
    "    \n",
    "# Plot the geometries on a basemap\n",
    "fig, ax = plt.subplots(figsize=(6, 6))\n",
    "    \n",
    "# Plot the roads (your data)\n",
    "shp.plot(ax=ax, color='blue', linewidth=1, alpha=0.3)\n",
    "    \n",
    "# Use OpenStreetMap for the basemap\n",
    "ctx.add_basemap(ax, crs=shp.crs.to_string(), source=ctx.providers.OpenStreetMap.Mapnik)\n",
    "    \n",
    "# Show the plot\n",
    "plt.show()"
   ]
  },
  {
   "cell_type": "code",
   "execution_count": null,
   "metadata": {},
   "outputs": [],
   "source": [
    "# Find out how many linestrings from the trajectory gdb is crossing the junction\n",
    "\n",
    "# Perform the spatial join to find intersecting linestrings\n",
    "intersecting_trajectories = gpd.sjoin(matched_trips_gdf, shp, how=\"inner\", predicate=\"intersects\")\n",
    "\n",
    "# Remove duplicates to get unique linestrings that pass through intersections\n",
    "unique_intersecting_trajectories = intersecting_trajectories.drop_duplicates(subset=[\"gps_id\", \"trip_id\"])\n",
    "\n",
    "# Count the Number of Intersecting Trajectories\n",
    "num_intersecting_trajectories = unique_intersecting_trajectories.shape[0]\n",
    "print(f\"Number of trajectories passing through intersections: {num_intersecting_trajectories}\")\n"
   ]
  },
  {
   "cell_type": "code",
   "execution_count": null,
   "metadata": {},
   "outputs": [],
   "source": [
    "# Visualize the trips in folium\n",
    "\n",
    "folium_map = visualize_trips_in_folium(\n",
    "    trips_gdf=unique_intersecting_trajectories,  # GeoDataFrame from the map-matching function\n",
    "    trip_id_col=\"trip_id\"         # Column containing trip IDs\n",
    ")\n",
    "\n",
    "# Save and display the map\n",
    "folium_map.save(\"matched_trips_folium_map_1000_unique_intersecting_trajectories.html\")"
   ]
  },
  {
   "cell_type": "code",
   "execution_count": null,
   "metadata": {},
   "outputs": [],
   "source": []
  }
 ],
 "metadata": {
  "colab": {
   "provenance": []
  },
  "kernelspec": {
   "display_name": "Python 3 (ipykernel)",
   "language": "python",
   "name": "python3"
  },
  "language_info": {
   "codemirror_mode": {
    "name": "ipython",
    "version": 3
   },
   "file_extension": ".py",
   "mimetype": "text/x-python",
   "name": "python",
   "nbconvert_exporter": "python",
   "pygments_lexer": "ipython3",
   "version": "3.12.5"
  }
 },
 "nbformat": 4,
 "nbformat_minor": 4
}
